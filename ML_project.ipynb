{
  "nbformat": 4,
  "nbformat_minor": 0,
  "metadata": {
    "colab": {
      "name": "ML_project.ipynb",
      "provenance": [],
      "collapsed_sections": []
    },
    "kernelspec": {
      "name": "python3",
      "display_name": "Python 3"
    }
  },
  "cells": [
    {
      "cell_type": "code",
      "metadata": {
        "id": "zay2Ovk207Fe",
        "colab_type": "code",
        "colab": {}
      },
      "source": [
        "import io\n",
        "from google.colab import files\n",
        "uploaded = files.upload()"
      ],
      "execution_count": null,
      "outputs": []
    },
    {
      "cell_type": "code",
      "metadata": {
        "id": "qy4TTb37OYXw",
        "colab_type": "code",
        "colab": {}
      },
      "source": [
        "import pandas as pd\n",
        "data_frame = pd.read_csv('../content/train.csv')\n",
        "data_frame['pickup_time'] = pd.to_datetime(data_frame['pickup_time'])\n",
        "data_frame['drop_time'] = pd.to_datetime(data_frame['drop_time'])\n",
        "data_frame['trip_duration'] = data_frame['drop_time'] - data_frame['pickup_time']\n",
        "data_frame = data_frame.drop(['drop_time', 'pickup_time'], axis='columns')\n",
        "data_frame.label = data_frame.label.map({\"correct\":1,\"incorrect\":0})"
      ],
      "execution_count": null,
      "outputs": []
    },
    {
      "cell_type": "code",
      "metadata": {
        "id": "8YTB-jhD3h7R",
        "colab_type": "code",
        "colab": {}
      },
      "source": [
        "import numpy as np\n",
        "from sklearn.impute import SimpleImputer\n",
        "my_imputer = SimpleImputer(missing_values=np.nan, strategy='mean')\n",
        "imputed_X = pd.DataFrame(my_imputer.fit_transform(data_frame.drop(['label', 'trip_duration'], axis='columns')))\n",
        "imputed_X.columns = data_frame.drop(['label', 'trip_duration'],axis='columns').columns\n",
        "imputed_X.head()"
      ],
      "execution_count": null,
      "outputs": []
    },
    {
      "cell_type": "code",
      "metadata": {
        "id": "yr6R4TWsyS8-",
        "colab_type": "code",
        "colab": {}
      },
      "source": [
        "from math import radians, cos, sin, asin, sqrt\n",
        "\n",
        "def distance(lat1, lat2, lon1, lon2):\n",
        "  dist_array = []\n",
        "  for i in range (len(lat1)):\n",
        "    # The math module contains a function named \n",
        "    # radians which converts from degrees to radians. \n",
        "    lon1_i = radians(lon1[i]) \n",
        "    lon2_i = radians(lon2[i]) \n",
        "    lat1_i = radians(lat1[i]) \n",
        "    lat2_i = radians(lat2[i])\n",
        "        \n",
        "    # Haversine formula  \n",
        "    dlon = lon2_i - lon1_i  \n",
        "    dlat = lat2_i - lat1_i \n",
        "    a = sin(dlat / 2)**2 + cos(lat1_i) * cos(lat2_i) * sin(dlon / 2)**2\n",
        "\n",
        "    c = 2 * asin(sqrt(a))  \n",
        "      \n",
        "    # Radius of earth in kilometers. Use 3956 for miles \n",
        "    r = 6371\n",
        "        \n",
        "    # calculate the result \n",
        "    dist = c * r\n",
        "    dist_array.append(dist)\n",
        "  return dist_array\n",
        "\n",
        "imputed_X['distance'] = distance(imputed_X['pick_lat'], imputed_X['drop_lat'], imputed_X['pick_lon'], imputed_X['drop_lon'])\n",
        "imputed_X['trip_duration'] = data_frame['trip_duration'] / np.timedelta64(1, 's')\n",
        "imputed_X['syn_1'] = (imputed_X['fare'] - imputed_X['meter_waiting_fare']) / imputed_X['distance']\n",
        "imputed_X['syn_2'] = (imputed_X['fare'] - imputed_X['meter_waiting_fare']) / (imputed_X['duration'] - imputed_X['meter_waiting'])\n",
        "imputed_X['syn_3'] = imputed_X['distance'] / (imputed_X['duration'] - imputed_X['meter_waiting'])\n",
        "imputed_X['syn_4'] = imputed_X['meter_waiting'] / imputed_X['duration']\n",
        "imputed_X['syn_5'] = imputed_X['additional_fare'] / imputed_X['distance']\n",
        "imputed_X['syn_6'] = imputed_X['additional_fare'] / (imputed_X['fare'] + imputed_X['additional_fare'])\n",
        "imputed_X['syn_7'] = (imputed_X['duration'] - imputed_X['meter_waiting']) / imputed_X['fare']\n",
        "imputed_X.head()"
      ],
      "execution_count": null,
      "outputs": []
    },
    {
      "cell_type": "code",
      "metadata": {
        "id": "T7Fh3sfjOk_I",
        "colab_type": "code",
        "colab": {}
      },
      "source": [
        "# import matplotlib.pyplot as plt\n",
        "\n",
        "# fig, ax = plt.subplots(figsize=(16,8))\n",
        "# ax.scatter(data_frame['meter_waiting_till_pickup'], data_frame['fare'])\n",
        "# ax.set_xlabel('meter_waiting_till_pickup')\n",
        "# ax.set_ylabel('Fare')\n",
        "# plt.show()\n",
        "imputed_X = imputed_X.replace([np.inf, -np.inf], np.nan)\n",
        "from sklearn.impute import SimpleImputer\n",
        "my_imputer = SimpleImputer(missing_values=np.nan, strategy='mean')\n",
        "imputed_X_new = pd.DataFrame(my_imputer.fit_transform(imputed_X))\n",
        "imputed_X_new.columns = imputed_X.columns\n",
        "imputed_X_new.head()"
      ],
      "execution_count": null,
      "outputs": []
    },
    {
      "cell_type": "code",
      "metadata": {
        "id": "l-eILlmMOvWv",
        "colab_type": "code",
        "colab": {}
      },
      "source": [
        "from sklearn.model_selection import train_test_split\n",
        "\n",
        "X = imputed_X_new.drop(['tripid', 'pick_lat', 'pick_lon',\t'drop_lat',\t'drop_lon'], axis='columns')\n",
        "y = data_frame['label']\n",
        "X_train, X_test, y_train, y_test = train_test_split(X, y, test_size=0.2, random_state=0)"
      ],
      "execution_count": null,
      "outputs": []
    },
    {
      "cell_type": "code",
      "metadata": {
        "id": "AqqfRE3aXDxM",
        "colab_type": "code",
        "colab": {}
      },
      "source": [
        "# from imblearn.over_sampling import RandomOverSampler\n",
        "\n",
        "# ros = RandomOverSampler(random_state=0)\n",
        "# X_resampled, y_resampled = ros.fit_resample(X_train, y_train)\n",
        "# # X_resampled.columns = X_train.columns\n",
        "# # y_resampled.columns = y_train.columns"
      ],
      "execution_count": null,
      "outputs": []
    },
    {
      "cell_type": "code",
      "metadata": {
        "id": "cnwWVAUd6-1S",
        "colab_type": "code",
        "colab": {}
      },
      "source": [
        "# from sklearn.ensemble import RandomForestClassifier\n",
        "# from sklearn.neighbors import KNeighborsClassifier\n",
        "from xgboost import XGBClassifier\n",
        "from sklearn.metrics import f1_score\n",
        "# a=[0, 0.001, 0.005, 0.01, 0.05]\n",
        "for i in range(1, 100, 1):\n",
        "  j = i/100\n",
        "  # classifier = RandomForestClassifier(max_depth=i, random_state=0)\n",
        "  # classifier = KNeighborsClassifier(n_neighbors=i)\n",
        "  classifier = XGBClassifier(learning_rate = j)\n",
        "  classifier.fit(X_train, y_train)\n",
        "  # X_test.columns = ['f0', 'f1', 'f2', 'f3', 'f4', 'f5', 'f6', 'f7', 'f8', 'f9', 'f10', 'f11', 'f12', 'f13', 'f14']\n",
        "  preds = classifier.predict(X_test)\n",
        "  print(\"Depth - {} , score {}\".format(i,f1_score(y_test, preds, average='macro')))"
      ],
      "execution_count": null,
      "outputs": []
    },
    {
      "cell_type": "code",
      "metadata": {
        "id": "IiBzDETeegbw",
        "colab_type": "code",
        "colab": {}
      },
      "source": [
        "# classifier = RandomForestClassifier(max_depth=18, random_state=0)\n",
        "# classifier = KNeighborsClassifier(n_neighbors=4)\n",
        "classifier = XGBClassifier(learning_rate = 0.74)\n",
        "classifier.fit(X_train, y_train)"
      ],
      "execution_count": null,
      "outputs": []
    },
    {
      "cell_type": "code",
      "metadata": {
        "id": "mTTQps_-b6Js",
        "colab_type": "code",
        "colab": {}
      },
      "source": [
        "# uploaded = files.upload()\n",
        "test_data = pd.read_csv(io.BytesIO(uploaded['test.csv']))"
      ],
      "execution_count": null,
      "outputs": []
    },
    {
      "cell_type": "code",
      "metadata": {
        "id": "ZIC3yUGHeSnt",
        "colab_type": "code",
        "colab": {}
      },
      "source": [
        "test_data['pickup_time'] = pd.to_datetime(test_data['pickup_time'])\n",
        "test_data['drop_time'] = pd.to_datetime(test_data['drop_time'])\n",
        "X = test_data.drop(['drop_time', 'pickup_time', 'tripid', 'pick_lat', 'pick_lon',\t'drop_lat',\t'drop_lon'], axis='columns')\n",
        "X['distance'] = distance(test_data['pick_lat'], test_data['drop_lat'], test_data['pick_lon'], test_data['drop_lon'])\n",
        "test_data['trip_duration'] = test_data['drop_time'] - test_data['pickup_time']\n",
        "X['trip_duration'] = test_data['trip_duration'] / np.timedelta64(1, 's')\n",
        "\n",
        "X['syn_1'] = (X['fare'] - X['meter_waiting_fare']) / X['distance']\n",
        "X['syn_2'] = (X['fare'] - X['meter_waiting_fare']) / (X['duration'] - X['meter_waiting'])\n",
        "X['syn_3'] = X['distance'] / (X['duration'] - X['meter_waiting'])\n",
        "X['syn_4'] = X['meter_waiting'] / X['duration']\n",
        "X['syn_5'] = X['additional_fare'] / X['distance']\n",
        "X['syn_6'] = X['additional_fare'] / (X['fare'] + X['additional_fare'])\n",
        "X['syn_7'] = (X['duration'] - X['meter_waiting']) / X['fare']\n",
        "# X.columns = ['f0', 'f1', 'f2', 'f3', 'f4', 'f5', 'f6', 'f7', 'f8', 'f9', 'f10', 'f11', 'f12', 'f13', 'f14']\n",
        "X.head()"
      ],
      "execution_count": null,
      "outputs": []
    },
    {
      "cell_type": "code",
      "metadata": {
        "id": "g2uEjhKAgaIv",
        "colab_type": "code",
        "colab": {}
      },
      "source": [
        "predictions = classifier.predict(X)"
      ],
      "execution_count": null,
      "outputs": []
    },
    {
      "cell_type": "code",
      "metadata": {
        "id": "kGTLfjRcgsPD",
        "colab_type": "code",
        "colab": {}
      },
      "source": [
        "results = pd.DataFrame(predictions)\n",
        "results.columns = ['prediction']\n",
        "results['tripid'] = test_data['tripid']\n",
        "f_cols = ['tripid','prediction']\n",
        "results = results[f_cols]\n",
        "results.to_csv('../content/submission10.csv',index=False)"
      ],
      "execution_count": null,
      "outputs": []
    }
  ]
}